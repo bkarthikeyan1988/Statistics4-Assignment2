{
 "cells": [
  {
   "cell_type": "raw",
   "metadata": {},
   "source": [
    "Problem Statement 1:\n",
    "Using the following data, perform a oneway analysis of variance using α=.05. Write up\n",
    "the results in APA format.\n",
    "\n",
    "[Group1: 51, 45, 33, 45, 67]\n",
    "[Group2: 23, 43, 23, 43, 45]\n",
    "[Group3: 56, 76, 74, 87, 56]"
   ]
  },
  {
   "cell_type": "markdown",
   "metadata": {},
   "source": [
    "#### Step 1: Calculate all the means\n",
    "Mean: 51.13\n"
   ]
  },
  {
   "cell_type": "markdown",
   "metadata": {},
   "source": [
    "#### Step 2: Set up the Null and Alternate Hypothesis \n",
    "You should already know how to do this by now\n",
    "H0: μ1 = μ2 = μ3 \n",
    "Ha: μ1 ≠ μ2 ≠ μ3  \n",
    "\n",
    "We also specify the  as well as the rejection criteria.\n",
    "α = 0.05\n",
    "Rejection criteria: K0.05 < F\n",
    "This means that if the critical value of F from tables is less than the calculated value of F, we reject the null hypothesis"
   ]
  },
  {
   "cell_type": "markdown",
   "metadata": {},
   "source": [
    "#### Step 3: Calculate the Sum of Squares\n",
    "The formular for sum of squares are given below\n",
    "\n",
    "SS(total) = SS(between) + SS(within)\n",
    "\n",
    "I have expanded the excel sheet to calculate the values of this terms in the equation\n",
    "Take some time to study it. The formulas are quite simple and clear. If you have issue though let me know in the comment box to the left of this page"
   ]
  },
  {
   "cell_type": "markdown",
   "metadata": {},
   "source": [
    "#### Step 4: Calculate the Degrees of Freedom\n",
    "The degrees of freedom are calculated using the formula below. \n",
    "##### dftotal =        n - 1 = 15 - 1 = 14\n",
    "##### dfwithin =     n - k = 15 - 3 = 12\n",
    "##### dfbetween = k - 1 = 3 - 1 = 2\n",
    "\n",
    "Verify that dftotal = dfbetween + dfwithin"
   ]
  },
  {
   "cell_type": "markdown",
   "metadata": {},
   "source": [
    "#### Step 5: Calculate the Mean Squares\n",
    "The formula is given below for the mean squares between\n",
    "##### MS(Between) =  SS(between) / df(between)\n",
    "##### MS(Between) = 3022/2 = 1511.47"
   ]
  },
  {
   "cell_type": "markdown",
   "metadata": {},
   "source": [
    "#### The formula for the mean squares within\n",
    "##### MS(Within) = SS(Within) / Df(within)\n",
    "##### MS(Within) = 1860/12 = 155.07"
   ]
  },
  {
   "cell_type": "markdown",
   "metadata": {},
   "source": [
    "#### Step 6: Calculate the F Statistic\n",
    "Then we go ahead to calculate the F statistic using MSB and MSW\n",
    "##### F = MS(Between)/MS(Within)\n",
    "##### F = 1511.47/155.07 = 9.75"
   ]
  },
  {
   "cell_type": "markdown",
   "metadata": {},
   "source": [
    "#### Step 7: Look up F from table and state your Conclusion\n",
    "Access table from here \n",
    "From the table of F distribution, the critical value of F for 0.05 significance and degrees of freedom of(df1 = 12 and df2 = 2) we have:\n",
    "\n",
    "F = 3.89"
   ]
  },
  {
   "cell_type": "code",
   "execution_count": null,
   "metadata": {},
   "outputs": [],
   "source": []
  }
 ],
 "metadata": {
  "kernelspec": {
   "display_name": "Python 3",
   "language": "python",
   "name": "python3"
  },
  "language_info": {
   "codemirror_mode": {
    "name": "ipython",
    "version": 3
   },
   "file_extension": ".py",
   "mimetype": "text/x-python",
   "name": "python",
   "nbconvert_exporter": "python",
   "pygments_lexer": "ipython3",
   "version": "3.6.4"
  }
 },
 "nbformat": 4,
 "nbformat_minor": 2
}
